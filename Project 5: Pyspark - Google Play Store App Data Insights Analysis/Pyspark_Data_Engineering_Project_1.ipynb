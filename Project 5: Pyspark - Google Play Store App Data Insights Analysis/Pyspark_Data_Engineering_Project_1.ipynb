{
 "cells": [
  {
   "cell_type": "markdown",
   "id": "23d98e4d",
   "metadata": {},
   "source": [
    "<h1 style=\"color: green;\">Google Play Store App Data Insights Analysis - Pyspark & Pandas</h1>\n",
    "\n",
    "Peng, 29 May 2025\n"
   ]
  },
  {
   "cell_type": "markdown",
   "id": "9e22404b",
   "metadata": {},
   "source": [
    "<h2 style=\"color: green;\">Step 1: Import libraries and initiate spark session</h2>\n"
   ]
  },
  {
   "cell_type": "code",
   "execution_count": 1,
   "id": "fed31fb4",
   "metadata": {},
   "outputs": [
    {
     "name": "stderr",
     "output_type": "stream",
     "text": [
      "25/05/29 10:32:56 WARN Utils: Your hostname, Pengs-MacBook-Pro.local resolves to a loopback address: 127.0.0.1; using 192.168.1.7 instead (on interface en0)\n",
      "25/05/29 10:32:56 WARN Utils: Set SPARK_LOCAL_IP if you need to bind to another address\n",
      "Setting default log level to \"WARN\".\n",
      "To adjust logging level use sc.setLogLevel(newLevel). For SparkR, use setLogLevel(newLevel).\n",
      "25/05/29 10:32:56 WARN NativeCodeLoader: Unable to load native-hadoop library for your platform... using builtin-java classes where applicable\n"
     ]
    }
   ],
   "source": [
    "from pyspark.sql import SparkSession\n",
    "import pyspark.sql.functions as F\n",
    "from pyspark.sql.types import *\n",
    "import pandas as pd\n",
    "import matplotlib.pyplot as plt\n",
    "import seaborn as sns\n",
    "spark = SparkSession.builder.appName(\"project1\").getOrCreate()"
   ]
  },
  {
   "cell_type": "markdown",
   "id": "dd01543d",
   "metadata": {},
   "source": [
    "<h2 style=\"color: green;\">Step 2: Ingest Data</h2>\n"
   ]
  },
  {
   "cell_type": "code",
   "execution_count": 2,
   "id": "9b8879a8",
   "metadata": {},
   "outputs": [
    {
     "name": "stdout",
     "output_type": "stream",
     "text": [
      "There are 10841 rows\n",
      "\n",
      "+----------------------------------------------+--------------+------+-------+----+--------+----+-----+--------------+-------------------------+----------------+-----------+------------+\n",
      "|App                                           |Category      |Rating|Reviews|Size|Installs|Type|Price|Content Rating|Genres                   |Last Updated    |Current Ver|Android Ver |\n",
      "+----------------------------------------------+--------------+------+-------+----+--------+----+-----+--------------+-------------------------+----------------+-----------+------------+\n",
      "|Photo Editor & Candy Camera & Grid & ScrapBook|ART_AND_DESIGN|4.1   |159    |19M |10,000+ |Free|0    |Everyone      |Art & Design             |January 7, 2018 |1.0.0      |4.0.3 and up|\n",
      "|Coloring book moana                           |ART_AND_DESIGN|3.9   |967    |14M |500,000+|Free|0    |Everyone      |Art & Design;Pretend Play|January 15, 2018|2.0.0      |4.0.3 and up|\n",
      "+----------------------------------------------+--------------+------+-------+----+--------+----+-----+--------------+-------------------------+----------------+-----------+------------+\n",
      "only showing top 2 rows\n",
      "\n"
     ]
    }
   ],
   "source": [
    "df_spark = spark.read.csv(\n",
    "    \"/Users/pengwang/Documents/Data Engineering Projects/googleplaystore.csv\",\n",
    "    header=True,inferSchema=True)\n",
    "\n",
    "print(f'There are {df_spark.count()} rows')\n",
    "print()\n",
    "\n",
    "df_spark.show(2,truncate=False)\n"
   ]
  },
  {
   "cell_type": "markdown",
   "id": "d6d9deb3",
   "metadata": {},
   "source": [
    "<h2 style=\"color: green;\">Step 3: Data Cleaning</h2>\n",
    "1)Drop null & NaN rows <br>2)Convert data types for each col <br>3)Remove leading/trailing quotes and spaces for all cols <br>4)Process duplicated rows via groupby <br>5)Convert 'Last Updated' col into date format\n"
   ]
  },
  {
   "cell_type": "markdown",
   "id": "c697370d",
   "metadata": {},
   "source": [
    "<h3 style=\"color: #FFD700;\">1) Drop null & NaN rows</h3>"
   ]
  },
  {
   "cell_type": "code",
   "execution_count": 3,
   "id": "8cf00511",
   "metadata": {},
   "outputs": [
    {
     "name": "stdout",
     "output_type": "stream",
     "text": [
      "+---+--------+------+-------+----+--------+----+-----+--------------+------+------------+-----------+-----------+\n",
      "|App|Category|Rating|Reviews|Size|Installs|Type|Price|Content Rating|Genres|Last Updated|Current Ver|Android Ver|\n",
      "+---+--------+------+-------+----+--------+----+-----+--------------+------+------------+-----------+-----------+\n",
      "|  0|       0|     0|      0|   0|       0|   0|    0|             1|     0|           0|          1|          1|\n",
      "+---+--------+------+-------+----+--------+----+-----+--------------+------+------------+-----------+-----------+\n",
      "\n",
      "+---+--------+------+-------+----+--------+----+-----+--------------+------+------------+-----------+-----------+\n",
      "|App|Category|Rating|Reviews|Size|Installs|Type|Price|Content Rating|Genres|Last Updated|Current Ver|Android Ver|\n",
      "+---+--------+------+-------+----+--------+----+-----+--------------+------+------------+-----------+-----------+\n",
      "|  0|       0|     0|      0|   0|       0|   0|    0|             0|     0|           0|          0|          0|\n",
      "+---+--------+------+-------+----+--------+----+-----+--------------+------+------------+-----------+-----------+\n",
      "\n",
      "\n",
      "There are 9360 rows\n",
      "+--------------------------------------------------+--------------+------+-------+----+-----------+----+-----+--------------+-------------------------+----------------+------------------+------------+\n",
      "|App                                               |Category      |Rating|Reviews|Size|Installs   |Type|Price|Content Rating|Genres                   |Last Updated    |Current Ver       |Android Ver |\n",
      "+--------------------------------------------------+--------------+------+-------+----+-----------+----+-----+--------------+-------------------------+----------------+------------------+------------+\n",
      "|Photo Editor & Candy Camera & Grid & ScrapBook    |ART_AND_DESIGN|4.1   |159    |19M |10,000+    |Free|0    |Everyone      |Art & Design             |January 7, 2018 |1.0.0             |4.0.3 and up|\n",
      "|Coloring book moana                               |ART_AND_DESIGN|3.9   |967    |14M |500,000+   |Free|0    |Everyone      |Art & Design;Pretend Play|January 15, 2018|2.0.0             |4.0.3 and up|\n",
      "|U Launcher Lite – FREE Live Cool Themes, Hide Apps|ART_AND_DESIGN|4.7   |87510  |8.7M|5,000,000+ |Free|0    |Everyone      |Art & Design             |August 1, 2018  |1.2.4             |4.0.3 and up|\n",
      "|Sketch - Draw & Paint                             |ART_AND_DESIGN|4.5   |215644 |25M |50,000,000+|Free|0    |Teen          |Art & Design             |June 8, 2018    |Varies with device|4.2 and up  |\n",
      "|Pixel Draw - Number Art Coloring Book             |ART_AND_DESIGN|4.3   |967    |2.8M|100,000+   |Free|0    |Everyone      |Art & Design;Creativity  |June 20, 2018   |1.1               |4.4 and up  |\n",
      "+--------------------------------------------------+--------------+------+-------+----+-----------+----+-----+--------------+-------------------------+----------------+------------------+------------+\n",
      "only showing top 5 rows\n",
      "\n"
     ]
    }
   ],
   "source": [
    "def check_null_and_nan_counts(df):\n",
    "    \"\"\"Count both null and NaN values for each column\"\"\"\n",
    "    null_nan_exprs = []\n",
    "    \n",
    "    for c in df.columns:\n",
    "        col_type = df.schema[c].dataType\n",
    "        if isinstance(col_type, (DoubleType, FloatType)):\n",
    "            # For numeric columns, check both null and NaN\n",
    "            expr = (F.sum(F.col(c).isNull().cast(\"int\")) + \n",
    "                   F.sum(F.isnan(F.col(c)).cast(\"int\"))).alias(c)\n",
    "        else:\n",
    "            # For non-numeric columns, check only null\n",
    "            expr = F.sum(F.col(c).isNull().cast(\"int\")).alias(c)\n",
    "        null_nan_exprs.append(expr)\n",
    "    return df.agg(*null_nan_exprs)\n",
    "\n",
    "# Check both null and NaN counts\n",
    "check_null_and_nan_counts(df_spark).show()\n",
    "\n",
    "\n",
    "#As the null rows are minimal, will simply drop them\n",
    "df_spark = df_spark.dropna(how='any')\n",
    "\n",
    "# Drop rows with NaN values in numeric columns\n",
    "numeric_cols = [c for c, dtype in df_spark.dtypes if dtype in ['double', 'float']]\n",
    "for col in df_spark.columns:\n",
    "    df_spark = df_spark.filter(~F.isnan(F.col(col)))\n",
    "    \n",
    "check_null_and_nan_counts(df_spark).show()\n",
    "print()\n",
    "print(f'There are {df_spark.count()} rows')\n",
    "\n",
    "df_spark.show(5, truncate=False)\n"
   ]
  },
  {
   "cell_type": "markdown",
   "id": "d388dc97",
   "metadata": {},
   "source": [
    "<h3 style=\"color: #FFD700;\">2) Convert data types for each col</h3>"
   ]
  },
  {
   "cell_type": "code",
   "execution_count": 4,
   "id": "16b8e7d7",
   "metadata": {},
   "outputs": [
    {
     "name": "stdout",
     "output_type": "stream",
     "text": [
      "root\n",
      " |-- App: string (nullable = true)\n",
      " |-- Category: string (nullable = true)\n",
      " |-- Rating: string (nullable = true)\n",
      " |-- Reviews: string (nullable = true)\n",
      " |-- Size: string (nullable = true)\n",
      " |-- Installs: string (nullable = true)\n",
      " |-- Type: string (nullable = true)\n",
      " |-- Price: string (nullable = true)\n",
      " |-- Content Rating: string (nullable = true)\n",
      " |-- Genres: string (nullable = true)\n",
      " |-- Last Updated: string (nullable = true)\n",
      " |-- Current Ver: string (nullable = true)\n",
      " |-- Android Ver: string (nullable = true)\n",
      "\n"
     ]
    }
   ],
   "source": [
    "# Original Schema\n",
    "df_spark.printSchema()"
   ]
  },
  {
   "cell_type": "markdown",
   "id": "47240ec1",
   "metadata": {},
   "source": [
    "<span style=\"color: #FFD700;\">**col - 'Price'**</span>"
   ]
  },
  {
   "cell_type": "code",
   "execution_count": 5,
   "id": "d4998bcf",
   "metadata": {},
   "outputs": [
    {
     "name": "stdout",
     "output_type": "stream",
     "text": [
      "+------------------+\n",
      "|Price             |\n",
      "+------------------+\n",
      "|5.0M              |\n",
      "|Varies with device|\n",
      "+------------------+\n",
      "\n"
     ]
    }
   ],
   "source": [
    "df_spark.select('Price').filter(\n",
    "    ~F.col('Price').rlike('^[0-9]+(\\\\.?[0-9]*)?$') &       # Not pure numbers  \n",
    "    ~F.col('Price').rlike('^\\\\$[0-9]+(\\\\.?[0-9]*)?$')       # Not $ format\n",
    ").distinct().show(1000, truncate=False)"
   ]
  },
  {
   "cell_type": "code",
   "execution_count": 6,
   "id": "3b9a1780",
   "metadata": {},
   "outputs": [
    {
     "name": "stdout",
     "output_type": "stream",
     "text": [
      "+--------------------+--------+------+-------------+------------------+--------+----+-----+--------------+------+------------+-----------+----------------+\n",
      "|                 App|Category|Rating|      Reviews|              Size|Installs|Type|Price|Content Rating|Genres|Last Updated|Current Ver|     Android Ver|\n",
      "+--------------------+--------+------+-------------+------------------+--------+----+-----+--------------+------+------------+-----------+----------------+\n",
      "|\"Women\"\"s Health ...|    Face|  Body|weight lose)\"|HEALTH_AND_FITNESS|     4.2|2509| 5.0M|    1,000,000+|  Free|           0| Mature 17+|Health & Fitness|\n",
      "+--------------------+--------+------+-------------+------------------+--------+----+-----+--------------+------+------------+-----------+----------------+\n",
      "\n"
     ]
    }
   ],
   "source": [
    "df_spark.filter(F.col('Price')=='5.0M').show()"
   ]
  },
  {
   "cell_type": "code",
   "execution_count": 7,
   "id": "843de840",
   "metadata": {},
   "outputs": [],
   "source": [
    "# For Price col, remove $ M sign and convert unit for fields contains 'M' into Million\n",
    "df_spark = df_spark.withColumn('Price', F.regexp_replace(F.col('Price'), '\\\\$', ''))\n",
    "\n",
    "# Handle 'M' suffix - convert to actual millions\n",
    "df_spark = df_spark.withColumn('Price', \n",
    "    F.when(F.col('Price').endswith('M'), \n",
    "         F.regexp_replace(F.col('Price'), 'M', '').cast('float') * 1000000)\n",
    "    .when(F.col('Price') == 'Varies with device', F.lit('Varies with device'))  # Keep as string\n",
    "    .otherwise(F.col('Price').cast('float'))\n",
    ")"
   ]
  },
  {
   "cell_type": "code",
   "execution_count": 8,
   "id": "17fe6f87",
   "metadata": {},
   "outputs": [
    {
     "name": "stdout",
     "output_type": "stream",
     "text": [
      "+--------------------+--------+------+-------------+------------------+--------+----+---------+--------------+------+------------+-----------+----------------+\n",
      "|                 App|Category|Rating|      Reviews|              Size|Installs|Type|    Price|Content Rating|Genres|Last Updated|Current Ver|     Android Ver|\n",
      "+--------------------+--------+------+-------------+------------------+--------+----+---------+--------------+------+------------+-----------+----------------+\n",
      "|\"Women\"\"s Health ...|    Face|  Body|weight lose)\"|HEALTH_AND_FITNESS|     4.2|2509|5000000.0|    1,000,000+|  Free|           0| Mature 17+|Health & Fitness|\n",
      "+--------------------+--------+------+-------------+------------------+--------+----+---------+--------------+------+------------+-----------+----------------+\n",
      "\n"
     ]
    }
   ],
   "source": [
    "df_spark.filter(F.col('Price')==5000000).show()"
   ]
  },
  {
   "cell_type": "code",
   "execution_count": 9,
   "id": "ce40339d",
   "metadata": {},
   "outputs": [
    {
     "name": "stdout",
     "output_type": "stream",
     "text": [
      "+------------------+\n",
      "|Price             |\n",
      "+------------------+\n",
      "|Varies with device|\n",
      "+------------------+\n",
      "\n"
     ]
    }
   ],
   "source": [
    "df_spark.select('Price').filter(\n",
    "    ~F.col('Price').rlike('^[0-9]+(\\\\.?[0-9]*)?$') &       # Not pure numbers  \n",
    "    ~F.col('Price').rlike('^\\\\$[0-9]+(\\\\.?[0-9]*)?$')       # Not $ format\n",
    ").distinct().show(1000, truncate=False)"
   ]
  },
  {
   "cell_type": "markdown",
   "id": "0805a993",
   "metadata": {},
   "source": [
    "<span style=\"color: #FFD700;\">**col - 'Reviews'**</span>"
   ]
  },
  {
   "cell_type": "code",
   "execution_count": 10,
   "id": "1530c275",
   "metadata": {},
   "outputs": [
    {
     "name": "stdout",
     "output_type": "stream",
     "text": [
      "+-------------+\n",
      "|      Reviews|\n",
      "+-------------+\n",
      "|weight lose)\"|\n",
      "|      camera\"|\n",
      "+-------------+\n",
      "\n",
      "+--------------------+--------------+------+-------+----+--------+----+-----+--------------+--------------------+----------------+-----------+------------+\n",
      "|                 App|      Category|Rating|Reviews|Size|Installs|Type|Price|Content Rating|              Genres|    Last Updated|Current Ver| Android Ver|\n",
      "+--------------------+--------------+------+-------+----+--------+----+-----+--------------+--------------------+----------------+-----------+------------+\n",
      "|Photo Editor & Ca...|ART_AND_DESIGN|   4.1|    159| 19M| 10,000+|Free|  0.0|      Everyone|        Art & Design| January 7, 2018|      1.0.0|4.0.3 and up|\n",
      "| Coloring book moana|ART_AND_DESIGN|   3.9|    967| 14M|500,000+|Free|  0.0|      Everyone|Art & Design;Pret...|January 15, 2018|      2.0.0|4.0.3 and up|\n",
      "+--------------------+--------------+------+-------+----+--------+----+-----+--------------+--------------------+----------------+-----------+------------+\n",
      "only showing top 2 rows\n",
      "\n",
      "+---+--------+------+-------+----+--------+----+-----+--------------+------+------------+-----------+-----------+\n",
      "|App|Category|Rating|Reviews|Size|Installs|Type|Price|Content Rating|Genres|Last Updated|Current Ver|Android Ver|\n",
      "+---+--------+------+-------+----+--------+----+-----+--------------+------+------------+-----------+-----------+\n",
      "+---+--------+------+-------+----+--------+----+-----+--------------+------+------------+-----------+-----------+\n",
      "\n"
     ]
    }
   ],
   "source": [
    "# Find rows where Reviews doesn't match pure numbers\n",
    "Weird_rows_Reviews = df_spark.select('Reviews').filter(~F.col('Reviews').rlike('^[0-9]+$')).distinct()\n",
    "Weird_rows_Reviews.show()\n",
    "Weird_rows_Reviews_List = [row['Reviews'] for row in Weird_rows_Reviews.collect()]\n",
    "Weird_rows_Reviews_List\n",
    "\n",
    "# Drop the rows contains values from Weird_rows_Reviews_List\n",
    "df_spark = df_spark.filter(~F.col('Reviews').isin(Weird_rows_Reviews_List))\n",
    "df_spark.show(2)\n",
    "\n",
    "# Confirm there is no more rows contains values from Weird_rows_Reviews_List\n",
    "df_spark.filter(F.col('Reviews').isin(Weird_rows_Reviews_List)).show(truncate=False)"
   ]
  },
  {
   "cell_type": "markdown",
   "id": "d0bc8485",
   "metadata": {},
   "source": [
    "<span style=\"color: #FFD700;\">**col - 'Rating'**</span>"
   ]
  },
  {
   "cell_type": "code",
   "execution_count": 11,
   "id": "c59cc9f2",
   "metadata": {},
   "outputs": [
    {
     "name": "stdout",
     "output_type": "stream",
     "text": [
      "+---+--------+------+-------+----+--------+----+-----+--------------+------+------------+-----------+-----------+\n",
      "|App|Category|Rating|Reviews|Size|Installs|Type|Price|Content Rating|Genres|Last Updated|Current Ver|Android Ver|\n",
      "+---+--------+------+-------+----+--------+----+-----+--------------+------+------------+-----------+-----------+\n",
      "+---+--------+------+-------+----+--------+----+-----+--------------+------+------------+-----------+-----------+\n",
      "\n"
     ]
    }
   ],
   "source": [
    "df_spark.filter(~F.col('Rating').rlike('^[0-9]+(\\\\.?[0-9]*)?$')).show(50, truncate=False)"
   ]
  },
  {
   "cell_type": "code",
   "execution_count": 12,
   "id": "df23f313",
   "metadata": {},
   "outputs": [
    {
     "name": "stdout",
     "output_type": "stream",
     "text": [
      "root\n",
      " |-- App: string (nullable = true)\n",
      " |-- Category: string (nullable = true)\n",
      " |-- Rating: double (nullable = true)\n",
      " |-- Reviews: integer (nullable = true)\n",
      " |-- Size: string (nullable = true)\n",
      " |-- Installs: string (nullable = true)\n",
      " |-- Type: string (nullable = true)\n",
      " |-- Price: double (nullable = true)\n",
      " |-- Content Rating: string (nullable = true)\n",
      " |-- Genres: string (nullable = true)\n",
      " |-- Last Updated: string (nullable = true)\n",
      " |-- Current Ver: string (nullable = true)\n",
      " |-- Android Ver: string (nullable = true)\n",
      "\n"
     ]
    }
   ],
   "source": [
    "# Convert Schema into appropriate type for each col\n",
    "\n",
    "numeric_cols = ['Rating', 'Reviews', 'Price']\n",
    "df_spark = df_spark.withColumns({c: F.col(c).cast(DoubleType()) for c in numeric_cols})\n",
    "df_spark = df_spark.withColumn('Reviews', F.col('Reviews').cast(IntegerType()))\n",
    "df_spark.printSchema()"
   ]
  },
  {
   "cell_type": "code",
   "execution_count": 13,
   "id": "d01824d9",
   "metadata": {},
   "outputs": [
    {
     "name": "stdout",
     "output_type": "stream",
     "text": [
      "+--------------------------------------------------+--------------+------+-------+----+-----------+----+-----+--------------+-------------------------+----------------+------------------+------------+\n",
      "|App                                               |Category      |Rating|Reviews|Size|Installs   |Type|Price|Content Rating|Genres                   |Last Updated    |Current Ver       |Android Ver |\n",
      "+--------------------------------------------------+--------------+------+-------+----+-----------+----+-----+--------------+-------------------------+----------------+------------------+------------+\n",
      "|Photo Editor & Candy Camera & Grid & ScrapBook    |ART_AND_DESIGN|4.1   |159    |19M |10,000+    |Free|0.0  |Everyone      |Art & Design             |January 7, 2018 |1.0.0             |4.0.3 and up|\n",
      "|Coloring book moana                               |ART_AND_DESIGN|3.9   |967    |14M |500,000+   |Free|0.0  |Everyone      |Art & Design;Pretend Play|January 15, 2018|2.0.0             |4.0.3 and up|\n",
      "|U Launcher Lite – FREE Live Cool Themes, Hide Apps|ART_AND_DESIGN|4.7   |87510  |8.7M|5,000,000+ |Free|0.0  |Everyone      |Art & Design             |August 1, 2018  |1.2.4             |4.0.3 and up|\n",
      "|Sketch - Draw & Paint                             |ART_AND_DESIGN|4.5   |215644 |25M |50,000,000+|Free|0.0  |Teen          |Art & Design             |June 8, 2018    |Varies with device|4.2 and up  |\n",
      "|Pixel Draw - Number Art Coloring Book             |ART_AND_DESIGN|4.3   |967    |2.8M|100,000+   |Free|0.0  |Everyone      |Art & Design;Creativity  |June 20, 2018   |1.1               |4.4 and up  |\n",
      "+--------------------------------------------------+--------------+------+-------+----+-----------+----+-----+--------------+-------------------------+----------------+------------------+------------+\n",
      "only showing top 5 rows\n",
      "\n"
     ]
    }
   ],
   "source": [
    "df_spark.show(5, truncate=False)"
   ]
  },
  {
   "cell_type": "markdown",
   "id": "0927ac51",
   "metadata": {},
   "source": [
    "<h3 style=\"color: #FFD700;\">3) Remove leading/trailing quotes and spaces for all cols</h3>"
   ]
  },
  {
   "cell_type": "code",
   "execution_count": 14,
   "id": "445f9010",
   "metadata": {},
   "outputs": [],
   "source": [
    "# Remove leading/trailing quotes and spaces for all cols\n",
    "for col in df_spark.columns:\n",
    "    df_spark_cleaned = df_spark.withColumn(col, F.trim(F.regexp_replace(col, '^[\" ]+|[\" ]+$', '')))\n"
   ]
  },
  {
   "cell_type": "markdown",
   "id": "3987bcda",
   "metadata": {},
   "source": [
    "<h3 style=\"color: #FFD700;\">4) Process duplicated rows via groupby</h3>"
   ]
  },
  {
   "cell_type": "code",
   "execution_count": 15,
   "id": "dc03e129",
   "metadata": {},
   "outputs": [
    {
     "name": "stdout",
     "output_type": "stream",
     "text": [
      "+---------------------------------------+------------------+----+-----------------+---------------+------+-------+------------------+----------+-----+--------------+---------------+------------------+\n",
      "|App                                    |Current Ver       |Type|Last Updated     |Category       |Rating|Reviews|Size              |Installs  |Price|Content Rating|Genres         |Android Ver       |\n",
      "+---------------------------------------+------------------+----+-----------------+---------------+------+-------+------------------+----------+-----+--------------+---------------+------------------+\n",
      "|\"Alphabet \"\"H\"\" Passcode Lock Screen\"  |1.0               |Free|December 21, 2017|PERSONALIZATION|4.5   |2      |3.0M              |100+      |0.0  |Everyone      |Personalization|4.1 and up        |\n",
      "|\"Eat Fast Prepare \"\"Without Internet\"\"\"|3.6.6             |Free|June 10, 2018    |FOOD_AND_DRINK |4.6   |4925   |17M               |1,000,000+|0.0  |Everyone      |Food & Drink   |4.0.3 and up      |\n",
      "|\"Official QR Code® Reader \"\"Q\"\"\"       |Varies with device|Free|March 23, 2018   |PRODUCTIVITY   |4.4   |3031   |Varies with device|500,000+  |0.0  |Everyone      |Productivity   |Varies with device|\n",
      "|+Download 4 Instagram Twitter          |5.03              |Free|August 2, 2018   |SOCIAL         |4.5   |40467  |22M               |1,000,000+|0.0  |Everyone      |Social         |4.1 and up        |\n",
      "|- Free Comics - Comic Apps             |5.0.12            |Free|July 13, 2018    |COMICS         |3.5   |115    |9.1M              |10,000+   |0.0  |Mature 17+    |Comics         |5.0 and up        |\n",
      "+---------------------------------------+------------------+----+-----------------+---------------+------+-------+------------------+----------+-----+--------------+---------------+------------------+\n",
      "only showing top 5 rows\n",
      "\n",
      "\n",
      "There are 8232 rows\n"
     ]
    }
   ],
   "source": [
    "\n",
    "# Process duplicated rows via groupby\n",
    "df_spark_grouped = df_spark_cleaned.groupBy('App', 'Current Ver', 'Type', 'Last Updated').agg(\n",
    "\n",
    "    F.first('Category').alias('Category'),\n",
    "    F.mean('Rating').alias('Rating'),\n",
    "    F.sum('Reviews').alias('Reviews'),\n",
    "    F.first('Size').alias('Size'), # There is no duplication\n",
    "    F.first('Installs').alias('Installs'), # There is only one duplicated Installs row, so it's safe to use 'first'\n",
    "    F.first('Price').alias('Price'),\n",
    "    F.first('Content Rating').alias('Content Rating'),\n",
    "    F.first('Genres').alias('Genres'),\n",
    "    F.first('Android Ver').alias('Android Ver')\n",
    ")\n",
    "\n",
    "df_spark_grouped.show(5, truncate=False)\n",
    "\n",
    "print()\n",
    "print(f'There are {df_spark_grouped.count()} rows')"
   ]
  },
  {
   "cell_type": "code",
   "execution_count": 16,
   "id": "f468793c",
   "metadata": {},
   "outputs": [
    {
     "name": "stdout",
     "output_type": "stream",
     "text": [
      "+---+-----------+----+------------+--------+------+-------+----+--------+-----+--------------+------+-----------+\n",
      "|App|Current Ver|Type|Last Updated|Category|Rating|Reviews|Size|Installs|Price|Content Rating|Genres|Android Ver|\n",
      "+---+-----------+----+------------+--------+------+-------+----+--------+-----+--------------+------+-----------+\n",
      "|  0|          0|   0|           0|       0|     0|      0|   0|       0|    0|             0|     0|          0|\n",
      "+---+-----------+----+------------+--------+------+-------+----+--------+-----+--------------+------+-----------+\n",
      "\n",
      "+---------------------------------------+-----------+----+-----------------+---------------+------+-------+----+----------+-----+--------------+---------------+------------+\n",
      "|App                                    |Current Ver|Type|Last Updated     |Category       |Rating|Reviews|Size|Installs  |Price|Content Rating|Genres         |Android Ver |\n",
      "+---------------------------------------+-----------+----+-----------------+---------------+------+-------+----+----------+-----+--------------+---------------+------------+\n",
      "|\"Alphabet \"\"H\"\" Passcode Lock Screen\"  |1.0        |Free|December 21, 2017|PERSONALIZATION|4.5   |2      |3.0M|100+      |0.0  |Everyone      |Personalization|4.1 and up  |\n",
      "|\"Eat Fast Prepare \"\"Without Internet\"\"\"|3.6.6      |Free|June 10, 2018    |FOOD_AND_DRINK |4.6   |4925   |17M |1,000,000+|0.0  |Everyone      |Food & Drink   |4.0.3 and up|\n",
      "+---------------------------------------+-----------+----+-----------------+---------------+------+-------+----+----------+-----+--------------+---------------+------------+\n",
      "only showing top 2 rows\n",
      "\n"
     ]
    }
   ],
   "source": [
    "check_null_and_nan_counts(df_spark_grouped).show()\n",
    "df_spark_grouped.show(2,truncate=False)"
   ]
  },
  {
   "cell_type": "markdown",
   "id": "63500820",
   "metadata": {},
   "source": [
    "<h3 style=\"color: #FFD700;\">5) Convert 'Last Updated' col into date format</h3>"
   ]
  },
  {
   "cell_type": "code",
   "execution_count": 17,
   "id": "b06baf6a",
   "metadata": {},
   "outputs": [
    {
     "name": "stdout",
     "output_type": "stream",
     "text": [
      "+-----------------+\n",
      "|Last Updated     |\n",
      "+-----------------+\n",
      "|May 30, 2017     |\n",
      "|March 2, 2017    |\n",
      "|March 25, 2016   |\n",
      "|October 27, 2015 |\n",
      "|February 10, 2013|\n",
      "+-----------------+\n",
      "only showing top 5 rows\n",
      "\n"
     ]
    }
   ],
   "source": [
    "df_spark_grouped.select('Last Updated').distinct().show(5, truncate=False)"
   ]
  },
  {
   "cell_type": "code",
   "execution_count": 18,
   "id": "5b62b4cb",
   "metadata": {},
   "outputs": [
    {
     "name": "stdout",
     "output_type": "stream",
     "text": [
      "+---------------------------------------+------------------+----+------------+---------------+------+-------+------------------+----------+-----+--------------+---------------+------------------+\n",
      "|App                                    |Current Ver       |Type|Last Updated|Category       |Rating|Reviews|Size              |Installs  |Price|Content Rating|Genres         |Android Ver       |\n",
      "+---------------------------------------+------------------+----+------------+---------------+------+-------+------------------+----------+-----+--------------+---------------+------------------+\n",
      "|\"Alphabet \"\"H\"\" Passcode Lock Screen\"  |1.0               |Free|2017-12-21  |PERSONALIZATION|4.5   |2      |3.0M              |100+      |0.0  |Everyone      |Personalization|4.1 and up        |\n",
      "|\"Eat Fast Prepare \"\"Without Internet\"\"\"|3.6.6             |Free|2018-06-10  |FOOD_AND_DRINK |4.6   |4925   |17M               |1,000,000+|0.0  |Everyone      |Food & Drink   |4.0.3 and up      |\n",
      "|\"Official QR Code® Reader \"\"Q\"\"\"       |Varies with device|Free|2018-03-23  |PRODUCTIVITY   |4.4   |3031   |Varies with device|500,000+  |0.0  |Everyone      |Productivity   |Varies with device|\n",
      "|+Download 4 Instagram Twitter          |5.03              |Free|2018-08-02  |SOCIAL         |4.5   |40467  |22M               |1,000,000+|0.0  |Everyone      |Social         |4.1 and up        |\n",
      "|- Free Comics - Comic Apps             |5.0.12            |Free|2018-07-13  |COMICS         |3.5   |115    |9.1M              |10,000+   |0.0  |Mature 17+    |Comics         |5.0 and up        |\n",
      "+---------------------------------------+------------------+----+------------+---------------+------+-------+------------------+----------+-----+--------------+---------------+------------------+\n",
      "only showing top 5 rows\n",
      "\n"
     ]
    }
   ],
   "source": [
    "df_spark_grouped = df_spark_grouped.withColumn('Last Updated', F.to_date(F.col('Last Updated'), 'MMMM d, yyyy'))\n",
    "df_spark_grouped.show(5,truncate=False)"
   ]
  },
  {
   "cell_type": "code",
   "execution_count": 19,
   "id": "f5a596de",
   "metadata": {},
   "outputs": [
    {
     "name": "stdout",
     "output_type": "stream",
     "text": [
      "+------------+\n",
      "|Last Updated|\n",
      "+------------+\n",
      "|2018-05-28  |\n",
      "|2017-08-11  |\n",
      "|2015-05-19  |\n",
      "|2017-09-11  |\n",
      "|2016-03-01  |\n",
      "+------------+\n",
      "only showing top 5 rows\n",
      "\n"
     ]
    }
   ],
   "source": [
    "df_spark_grouped.select('Last Updated').distinct().show(5, truncate=False)"
   ]
  },
  {
   "cell_type": "markdown",
   "id": "84e34c32",
   "metadata": {},
   "source": [
    "<h2 style=\"color: green;\">Step 4: Exploratory Data Analysis</h2>\n"
   ]
  },
  {
   "cell_type": "code",
   "execution_count": 20,
   "id": "b00774f9",
   "metadata": {},
   "outputs": [
    {
     "data": {
      "text/html": [
       "<div>\n",
       "<style scoped>\n",
       "    .dataframe tbody tr th:only-of-type {\n",
       "        vertical-align: middle;\n",
       "    }\n",
       "\n",
       "    .dataframe tbody tr th {\n",
       "        vertical-align: top;\n",
       "    }\n",
       "\n",
       "    .dataframe thead th {\n",
       "        text-align: right;\n",
       "    }\n",
       "</style>\n",
       "<table border=\"1\" class=\"dataframe\">\n",
       "  <thead>\n",
       "    <tr style=\"text-align: right;\">\n",
       "      <th></th>\n",
       "      <th>App</th>\n",
       "      <th>Current Ver</th>\n",
       "      <th>Type</th>\n",
       "      <th>Last Updated</th>\n",
       "      <th>Category</th>\n",
       "      <th>Rating</th>\n",
       "      <th>Reviews</th>\n",
       "      <th>Size</th>\n",
       "      <th>Installs</th>\n",
       "      <th>Price</th>\n",
       "      <th>Content Rating</th>\n",
       "      <th>Genres</th>\n",
       "      <th>Android Ver</th>\n",
       "    </tr>\n",
       "  </thead>\n",
       "  <tbody>\n",
       "    <tr>\n",
       "      <th>0</th>\n",
       "      <td>\"Alphabet \"\"H\"\" Passcode Lock Screen\"</td>\n",
       "      <td>1.0</td>\n",
       "      <td>Free</td>\n",
       "      <td>2017-12-21</td>\n",
       "      <td>PERSONALIZATION</td>\n",
       "      <td>4.5</td>\n",
       "      <td>2</td>\n",
       "      <td>3.0M</td>\n",
       "      <td>100+</td>\n",
       "      <td>0.0</td>\n",
       "      <td>Everyone</td>\n",
       "      <td>Personalization</td>\n",
       "      <td>4.1 and up</td>\n",
       "    </tr>\n",
       "    <tr>\n",
       "      <th>1</th>\n",
       "      <td>\"Eat Fast Prepare \"\"Without Internet\"\"\"</td>\n",
       "      <td>3.6.6</td>\n",
       "      <td>Free</td>\n",
       "      <td>2018-06-10</td>\n",
       "      <td>FOOD_AND_DRINK</td>\n",
       "      <td>4.6</td>\n",
       "      <td>4925</td>\n",
       "      <td>17M</td>\n",
       "      <td>1,000,000+</td>\n",
       "      <td>0.0</td>\n",
       "      <td>Everyone</td>\n",
       "      <td>Food &amp; Drink</td>\n",
       "      <td>4.0.3 and up</td>\n",
       "    </tr>\n",
       "    <tr>\n",
       "      <th>2</th>\n",
       "      <td>\"Official QR Code® Reader \"\"Q\"\"\"</td>\n",
       "      <td>Varies with device</td>\n",
       "      <td>Free</td>\n",
       "      <td>2018-03-23</td>\n",
       "      <td>PRODUCTIVITY</td>\n",
       "      <td>4.4</td>\n",
       "      <td>3031</td>\n",
       "      <td>Varies with device</td>\n",
       "      <td>500,000+</td>\n",
       "      <td>0.0</td>\n",
       "      <td>Everyone</td>\n",
       "      <td>Productivity</td>\n",
       "      <td>Varies with device</td>\n",
       "    </tr>\n",
       "    <tr>\n",
       "      <th>3</th>\n",
       "      <td>+Download 4 Instagram Twitter</td>\n",
       "      <td>5.03</td>\n",
       "      <td>Free</td>\n",
       "      <td>2018-08-02</td>\n",
       "      <td>SOCIAL</td>\n",
       "      <td>4.5</td>\n",
       "      <td>40467</td>\n",
       "      <td>22M</td>\n",
       "      <td>1,000,000+</td>\n",
       "      <td>0.0</td>\n",
       "      <td>Everyone</td>\n",
       "      <td>Social</td>\n",
       "      <td>4.1 and up</td>\n",
       "    </tr>\n",
       "    <tr>\n",
       "      <th>4</th>\n",
       "      <td>- Free Comics - Comic Apps</td>\n",
       "      <td>5.0.12</td>\n",
       "      <td>Free</td>\n",
       "      <td>2018-07-13</td>\n",
       "      <td>COMICS</td>\n",
       "      <td>3.5</td>\n",
       "      <td>115</td>\n",
       "      <td>9.1M</td>\n",
       "      <td>10,000+</td>\n",
       "      <td>0.0</td>\n",
       "      <td>Mature 17+</td>\n",
       "      <td>Comics</td>\n",
       "      <td>5.0 and up</td>\n",
       "    </tr>\n",
       "  </tbody>\n",
       "</table>\n",
       "</div>"
      ],
      "text/plain": [
       "                                       App         Current Ver  Type  \\\n",
       "0    \"Alphabet \"\"H\"\" Passcode Lock Screen\"                 1.0  Free   \n",
       "1  \"Eat Fast Prepare \"\"Without Internet\"\"\"               3.6.6  Free   \n",
       "2         \"Official QR Code® Reader \"\"Q\"\"\"  Varies with device  Free   \n",
       "3            +Download 4 Instagram Twitter                5.03  Free   \n",
       "4               - Free Comics - Comic Apps              5.0.12  Free   \n",
       "\n",
       "  Last Updated         Category  Rating  Reviews                Size  \\\n",
       "0   2017-12-21  PERSONALIZATION     4.5        2                3.0M   \n",
       "1   2018-06-10   FOOD_AND_DRINK     4.6     4925                 17M   \n",
       "2   2018-03-23     PRODUCTIVITY     4.4     3031  Varies with device   \n",
       "3   2018-08-02           SOCIAL     4.5    40467                 22M   \n",
       "4   2018-07-13           COMICS     3.5      115                9.1M   \n",
       "\n",
       "     Installs  Price Content Rating           Genres         Android Ver  \n",
       "0        100+    0.0       Everyone  Personalization          4.1 and up  \n",
       "1  1,000,000+    0.0       Everyone     Food & Drink        4.0.3 and up  \n",
       "2    500,000+    0.0       Everyone     Productivity  Varies with device  \n",
       "3  1,000,000+    0.0       Everyone           Social          4.1 and up  \n",
       "4     10,000+    0.0     Mature 17+           Comics          5.0 and up  "
      ]
     },
     "execution_count": 20,
     "metadata": {},
     "output_type": "execute_result"
    }
   ],
   "source": [
    "df = df_spark_grouped.toPandas()\n",
    "df.head()"
   ]
  },
  {
   "cell_type": "code",
   "execution_count": 21,
   "id": "773239e9",
   "metadata": {},
   "outputs": [
    {
     "data": {
      "text/plain": [
       "8188"
      ]
     },
     "execution_count": 21,
     "metadata": {},
     "output_type": "execute_result"
    }
   ],
   "source": [
    "df.App.nunique()"
   ]
  },
  {
   "cell_type": "code",
   "execution_count": 22,
   "id": "45c8b28b",
   "metadata": {},
   "outputs": [
    {
     "data": {
      "text/html": [
       "<div>\n",
       "<style scoped>\n",
       "    .dataframe tbody tr th:only-of-type {\n",
       "        vertical-align: middle;\n",
       "    }\n",
       "\n",
       "    .dataframe tbody tr th {\n",
       "        vertical-align: top;\n",
       "    }\n",
       "\n",
       "    .dataframe thead th {\n",
       "        text-align: right;\n",
       "    }\n",
       "</style>\n",
       "<table border=\"1\" class=\"dataframe\">\n",
       "  <thead>\n",
       "    <tr style=\"text-align: right;\">\n",
       "      <th></th>\n",
       "      <th>App</th>\n",
       "      <th>Current Ver</th>\n",
       "      <th>Type</th>\n",
       "      <th>Last Updated</th>\n",
       "      <th>Category</th>\n",
       "      <th>Rating</th>\n",
       "      <th>Reviews</th>\n",
       "      <th>Size</th>\n",
       "      <th>Installs</th>\n",
       "      <th>Price</th>\n",
       "      <th>Content Rating</th>\n",
       "      <th>Genres</th>\n",
       "      <th>Android Ver</th>\n",
       "    </tr>\n",
       "  </thead>\n",
       "  <tbody>\n",
       "    <tr>\n",
       "      <th>523</th>\n",
       "      <td>AliExpress - Smarter Shopping, Better Living</td>\n",
       "      <td>Varies with device</td>\n",
       "      <td>Free</td>\n",
       "      <td>2018-08-01</td>\n",
       "      <td>SHOPPING</td>\n",
       "      <td>4.6</td>\n",
       "      <td>5911055</td>\n",
       "      <td>Varies with device</td>\n",
       "      <td>100,000,000+</td>\n",
       "      <td>0.0</td>\n",
       "      <td>Teen</td>\n",
       "      <td>Shopping</td>\n",
       "      <td>Varies with device</td>\n",
       "    </tr>\n",
       "    <tr>\n",
       "      <th>524</th>\n",
       "      <td>AliExpress - Smarter Shopping, Better Living</td>\n",
       "      <td>Varies with device</td>\n",
       "      <td>Free</td>\n",
       "      <td>2018-08-06</td>\n",
       "      <td>SHOPPING</td>\n",
       "      <td>4.6</td>\n",
       "      <td>17750660</td>\n",
       "      <td>Varies with device</td>\n",
       "      <td>100,000,000+</td>\n",
       "      <td>0.0</td>\n",
       "      <td>Teen</td>\n",
       "      <td>Shopping</td>\n",
       "      <td>Varies with device</td>\n",
       "    </tr>\n",
       "  </tbody>\n",
       "</table>\n",
       "</div>"
      ],
      "text/plain": [
       "                                              App         Current Ver  Type  \\\n",
       "523  AliExpress - Smarter Shopping, Better Living  Varies with device  Free   \n",
       "524  AliExpress - Smarter Shopping, Better Living  Varies with device  Free   \n",
       "\n",
       "    Last Updated  Category  Rating   Reviews                Size  \\\n",
       "523   2018-08-01  SHOPPING     4.6   5911055  Varies with device   \n",
       "524   2018-08-06  SHOPPING     4.6  17750660  Varies with device   \n",
       "\n",
       "         Installs  Price Content Rating    Genres         Android Ver  \n",
       "523  100,000,000+    0.0           Teen  Shopping  Varies with device  \n",
       "524  100,000,000+    0.0           Teen  Shopping  Varies with device  "
      ]
     },
     "execution_count": 22,
     "metadata": {},
     "output_type": "execute_result"
    }
   ],
   "source": [
    "df[df['App']=='AliExpress - Smarter Shopping, Better Living']"
   ]
  },
  {
   "cell_type": "markdown",
   "id": "88cf4885",
   "metadata": {},
   "source": [
    "<h3 style=\"color: #FFD700;\">Question 1: Which categories have the most App?</h3>\n",
    "\n",
    "Family(19.7%), Game(11.1%), Tools(8.8%), Finance(3.7%), Lifestyle(3.7%)"
   ]
  },
  {
   "cell_type": "code",
   "execution_count": 23,
   "id": "0c3930ce",
   "metadata": {},
   "outputs": [
    {
     "data": {
      "image/png": "[encoded data removed]",
      "text/plain": [
       "<Figure size 1000x300 with 1 Axes>"
      ]
     },
     "metadata": {},
     "output_type": "display_data"
    }
   ],
   "source": [
    "df_category = df.groupby('Category').App.nunique().sort_values(ascending=False).reset_index()\n",
    "\n",
    "# Calculate percentages\n",
    "total_apps = df_category['App'].sum()\n",
    "df_category['Percentage'] = (df_category['App'] / total_apps * 100).round(1)\n",
    "\n",
    "plt.figure(figsize=(10, 3))  \n",
    "ax = sns.barplot(data=df_category.head(), y='Category', x='App', \n",
    "                 hue='Category', palette='viridis', legend=False)\n",
    "plt.suptitle('Categories with the most Apps:', fontsize=12, y=0.98)\n",
    "plt.title('Family(19.7%), Game(11.1%), Tools(8.8%), Finance(3.7%), Lifestyle(3.7%)', \n",
    "          fontsize=16, pad=10,color=\"#FF8400\")\n",
    "plt.xlabel('Number of Apps', fontsize=10)\n",
    "plt.yticks(fontsize=10) \n",
    "# Add value labels \n",
    "for i, v in enumerate(df_category.head()['App']):\n",
    "    ax.text(v + 50, i, str(v), va='center', fontsize=10) \n",
    "\n",
    "plt.tight_layout()\n",
    "plt.show()\n",
    "\n",
    "# # Print summary\n",
    "# print(f\"Total apps across all categories: {total_apps:,}\")\n",
    "# print(f\"\\nTop 15 categories:\")\n",
    "# print(df_category.head(15)[['Category', 'App', 'Percentage']])"
   ]
  },
  {
   "cell_type": "markdown",
   "id": "a8815c06",
   "metadata": {},
   "source": [
    "<h3 style=\"color: #FFD700;\">Question 2: Which categories has the average most frequent app version update?</h3>\n",
    "\n",
    "all categories have median of 1 update "
   ]
  },
  {
   "cell_type": "code",
   "execution_count": 24,
   "id": "553b2d91",
   "metadata": {},
   "outputs": [
    {
     "data": {
      "text/plain": [
       "Update_Count\n",
       "1    8168\n",
       "2      32\n",
       "Name: count, dtype: int64"
      ]
     },
     "execution_count": 24,
     "metadata": {},
     "output_type": "execute_result"
    }
   ],
   "source": [
    "df.groupby(['Category', 'App']).size().reset_index(name='Update_Count')['Update_Count'].value_counts()"
   ]
  },
  {
   "cell_type": "code",
   "execution_count": 25,
   "id": "3f83cbd2",
   "metadata": {},
   "outputs": [
    {
     "name": "stdout",
     "output_type": "stream",
     "text": [
      "Categories with most frequent app updates:\n",
      "             Category  Update_Count\n",
      "0      ART_AND_DESIGN           1.0\n",
      "1  LIBRARIES_AND_DEMO           1.0\n",
      "2       VIDEO_PLAYERS           1.0\n",
      "3    TRAVEL_AND_LOCAL           1.0\n",
      "4               TOOLS           1.0\n"
     ]
    }
   ],
   "source": [
    "category_updates = (df.groupby(['Category', 'App']).size()\n",
    "                     .reset_index(name='Update_Count')\n",
    "                     .groupby('Category')['Update_Count']\n",
    "                     .median()\n",
    "                     .sort_values(ascending=False)\n",
    "                     .reset_index()) \n",
    "\n",
    "print(\"Categories with most frequent app updates:\")\n",
    "print(category_updates.head())"
   ]
  },
  {
   "cell_type": "markdown",
   "id": "b84714ed",
   "metadata": {},
   "source": [
    "<h3 style=\"color: #FFD700;\">Question 3: What are the key factors deciding the installs and Rating?</h3>\n",
    "\n",
    "1. 92.7% apps are free\n",
    "2. Free apps has 100x higher installs than paid apps\n",
    "3. Median rating for both paid and free apps are similar"
   ]
  },
  {
   "cell_type": "code",
   "execution_count": 26,
   "id": "b3490d55",
   "metadata": {},
   "outputs": [
    {
     "data": {
      "text/html": [
       "<div>\n",
       "<style scoped>\n",
       "    .dataframe tbody tr th:only-of-type {\n",
       "        vertical-align: middle;\n",
       "    }\n",
       "\n",
       "    .dataframe tbody tr th {\n",
       "        vertical-align: top;\n",
       "    }\n",
       "\n",
       "    .dataframe thead th {\n",
       "        text-align: right;\n",
       "    }\n",
       "</style>\n",
       "<table border=\"1\" class=\"dataframe\">\n",
       "  <thead>\n",
       "    <tr style=\"text-align: right;\">\n",
       "      <th></th>\n",
       "      <th>App</th>\n",
       "      <th>Current Ver</th>\n",
       "      <th>Type</th>\n",
       "      <th>Last Updated</th>\n",
       "      <th>Category</th>\n",
       "      <th>Rating</th>\n",
       "      <th>Reviews</th>\n",
       "      <th>Size</th>\n",
       "      <th>Installs</th>\n",
       "      <th>Price</th>\n",
       "      <th>Content Rating</th>\n",
       "      <th>Genres</th>\n",
       "      <th>Android Ver</th>\n",
       "    </tr>\n",
       "  </thead>\n",
       "  <tbody>\n",
       "    <tr>\n",
       "      <th>0</th>\n",
       "      <td>\"Alphabet \"\"H\"\" Passcode Lock Screen\"</td>\n",
       "      <td>1.0</td>\n",
       "      <td>Free</td>\n",
       "      <td>2017-12-21</td>\n",
       "      <td>PERSONALIZATION</td>\n",
       "      <td>4.5</td>\n",
       "      <td>2</td>\n",
       "      <td>3.0M</td>\n",
       "      <td>100</td>\n",
       "      <td>0.0</td>\n",
       "      <td>Everyone</td>\n",
       "      <td>Personalization</td>\n",
       "      <td>4.1 and up</td>\n",
       "    </tr>\n",
       "    <tr>\n",
       "      <th>1</th>\n",
       "      <td>\"Eat Fast Prepare \"\"Without Internet\"\"\"</td>\n",
       "      <td>3.6.6</td>\n",
       "      <td>Free</td>\n",
       "      <td>2018-06-10</td>\n",
       "      <td>FOOD_AND_DRINK</td>\n",
       "      <td>4.6</td>\n",
       "      <td>4925</td>\n",
       "      <td>17M</td>\n",
       "      <td>1000000</td>\n",
       "      <td>0.0</td>\n",
       "      <td>Everyone</td>\n",
       "      <td>Food &amp; Drink</td>\n",
       "      <td>4.0.3 and up</td>\n",
       "    </tr>\n",
       "  </tbody>\n",
       "</table>\n",
       "</div>"
      ],
      "text/plain": [
       "                                       App Current Ver  Type Last Updated  \\\n",
       "0    \"Alphabet \"\"H\"\" Passcode Lock Screen\"         1.0  Free   2017-12-21   \n",
       "1  \"Eat Fast Prepare \"\"Without Internet\"\"\"       3.6.6  Free   2018-06-10   \n",
       "\n",
       "          Category  Rating  Reviews  Size  Installs  Price Content Rating  \\\n",
       "0  PERSONALIZATION     4.5        2  3.0M       100    0.0       Everyone   \n",
       "1   FOOD_AND_DRINK     4.6     4925   17M   1000000    0.0       Everyone   \n",
       "\n",
       "            Genres   Android Ver  \n",
       "0  Personalization    4.1 and up  \n",
       "1     Food & Drink  4.0.3 and up  "
      ]
     },
     "metadata": {},
     "output_type": "display_data"
    },
    {
     "name": "stdout",
     "output_type": "stream",
     "text": [
      "      Count Percentage\n",
      "Type                  \n",
      "Free   7587      92.7%\n",
      "Paid    601       7.3%\n",
      "Median installs for free apps: 500000\n",
      "Median installs for paid apps: 5000\n",
      "Median rating for free apps: 4.3\n",
      "Median rating for paid apps: 4.4\n"
     ]
    }
   ],
   "source": [
    "df1 = df.groupby('App').last().reset_index()\n",
    "df1['Installs'] = df1['Installs'].str.replace(',', '').str.replace('+', '').astype(int)\n",
    "display(df1.head(2))\n",
    "df_free = df1[df1['Price'] == 0]\n",
    "df_paid = df1[df1['Price'] > 0]\n",
    "app_summary = pd.DataFrame({'Count': df1['Type'].value_counts(), 'Percentage': (df1['Type'].value_counts(normalize=True) * 100).round(1).astype(str) + '%'})\n",
    "print(app_summary)\n",
    "free_app_median_install = df_free['Installs'].median()\n",
    "paid_app_median_install = df_paid['Installs'].median()\n",
    "print(f\"Median installs for free apps: {int(free_app_median_install)}\")\n",
    "print(f\"Median installs for paid apps: {int(paid_app_median_install)}\")\n",
    "\n",
    "free_app_median_rating = df_free['Rating'].median()\n",
    "paid_app_median_rating = df_paid['Rating'].median()\n",
    "print(f\"Median rating for free apps: {free_app_median_rating}\")\n",
    "print(f\"Median rating for paid apps: {paid_app_median_rating}\")\n",
    "\n",
    "# # Calculate thresholds\n",
    "# bottom_threshold = df1['Rating'].quantile(0.30)\n",
    "# top_threshold = df1['Rating'].quantile(0.70)\n",
    "\n",
    "# print()\n",
    "\n",
    "# # Bottom 30%\n",
    "# bottom_30_percent = df1[df1['Rating'] <= bottom_threshold]\n",
    "# print(f'\\n - Worst Apps - Bottom 30% ({len(bottom_30_percent)} apps):')\n",
    "# bottom_summary = pd.DataFrame({\n",
    "#     'Count': bottom_30_percent['Type'].value_counts(),\n",
    "#     'Percentage': bottom_30_percent['Type'].value_counts(normalize=True) * 100\n",
    "# })\n",
    "# print(bottom_summary.round(1))\n",
    "\n",
    "# # Top 30%\n",
    "# top_30_percent = df1[df1['Rating'] >= top_threshold]\n",
    "# print(f'\\n- Best Apps - Top 30% ({len(top_30_percent)} apps):')\n",
    "# top_summary = pd.DataFrame({\n",
    "#     'Count': top_30_percent['Type'].value_counts(),\n",
    "#     'Percentage': top_30_percent['Type'].value_counts(normalize=True) * 100\n",
    "# })\n",
    "# print(top_summary.round(1))\n",
    "\n"
   ]
  }
 ],
 "metadata": {
  "kernelspec": {
   "display_name": "Streamlit_demandforecast",
   "language": "python",
   "name": "python3"
  },
  "language_info": {
   "codemirror_mode": {
    "name": "ipython",
    "version": 3
   },
   "file_extension": ".py",
   "mimetype": "text/x-python",
   "name": "python",
   "nbconvert_exporter": "python",
   "pygments_lexer": "ipython3",
   "version": "3.13.3"
  }
 },
 "nbformat": 4,
 "nbformat_minor": 5
}
